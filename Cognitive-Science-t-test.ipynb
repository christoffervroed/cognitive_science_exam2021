{
 "cells": [
  {
   "cell_type": "code",
   "execution_count": 1,
   "metadata": {},
   "outputs": [],
   "source": [
    "#import library modules\n",
    "import numpy as np\n",
    "import matplotlib.pyplot as plt\n",
    "import scipy\n",
    "from scipy import stats\n",
    "%matplotlib inline"
   ]
  },
  {
   "cell_type": "code",
   "execution_count": 2,
   "metadata": {},
   "outputs": [],
   "source": [
    "#read data\n",
    "data_e = np.loadtxt('electric_flying_text.txt')\n",
    "data_hl = np.loadtxt('hearingloss_text.txt')"
   ]
  },
  {
   "cell_type": "code",
   "execution_count": 24,
   "metadata": {},
   "outputs": [
    {
     "name": "stdout",
     "output_type": "stream",
     "text": [
      "[ 4.  6.  9.  6.  8.  8.  7.  9.  7.  5.  6.  5.  8.  8.  7. 10. 10. 10.\n",
      "  7.  4.  7.]\n",
      "6.5\n",
      "4.5476190476190474\n"
     ]
    }
   ],
   "source": [
    "#preprocess data\n",
    "\n",
    "data_all = np.concatenate((data_e, data_hl))\n",
    "\n",
    "\n",
    "#multimodal and unimodal data\n",
    "multim_e = np.array([line for line in data_e if line[0] == 1])\n",
    "unim_e = np.array([line for line in data_e if line[0] == 0])\n",
    "multim_hl = np.array([line for line in data_hl if line[0] == 1])\n",
    "unim_hl = np.array([line for line in data_hl if line[0] == 0])\n",
    "\n",
    "multim_all = np.array([line for line in data_all if line[0] == 1])\n",
    "unim_all = np.array([line for line in data_all if line[0] == 0])\n",
    "\n",
    "#data\n",
    "multim_edata = multim_e[:,1]\n",
    "unim_edata = unim_e[:,1]\n",
    "multim_hldata = multim_hl[:,1]\n",
    "unim_hldata = unim_hl[:,1]\n",
    "\n",
    "print(multim_edata)\n",
    "\n",
    "multim_alldata = multim_all[:,1]\n",
    "unim_alldata = unim_all[:,1]\n",
    "\n",
    "#mean of uni and multimodal data\n",
    "multim_e_mean = multim_e[:,1].mean()\n",
    "unim_e_mean = unim_e[:,1].mean()\n",
    "multim_hl_mean = multim_hl[:,1].mean()\n",
    "unim_hl_mean = unim_hl[:,1].mean()\n",
    "\n",
    "multim_all_mean = multim_all[:,1].mean()\n",
    "unim_all_mean = unim_all[:,1].mean()\n",
    "\n",
    "print(multim_all_mean)\n",
    "print(unim_all_mean)\n"
   ]
  },
  {
   "cell_type": "code",
   "execution_count": null,
   "metadata": {},
   "outputs": [],
   "source": [
    "stats.ttest_ind(rvs1, rvs4)"
   ]
  },
  {
   "cell_type": "code",
   "execution_count": 20,
   "metadata": {},
   "outputs": [],
   "source": [
    "#Null hypothesis (H0): \n",
    "#Alternative hypothesis (H1): \n",
    "\n",
    "#Sample variance (S2)\n",
    "def variance(data, mean):\n",
    "    return np.sum(((data - mean)**2))/(len(data)-1)\n",
    "\n",
    "var_multi_e = variance(multim_edata, multim_e_mean)\n",
    "var_uni_e = variance(unim_edata, unim_e_mean)\n",
    "var_multi_hl = variance(multim_hldata, multim_hl_mean)\n",
    "var_uni_hl = variance(unim_hldata, unim_hl_mean)\n",
    "\n",
    "var_multi_all = variance(multim_alldata, multim_all_mean)\n",
    "var_uni_all = variance(unim_alldata, unim_all_mean)\n",
    "\n",
    "#Computing t-value, degrees of freedom and p-value (electic planes)\n",
    "t_e = (multim_e_mean-unim_e_mean)/(np.sqrt((var_multi_e/len(multim_edata))+(var_uni_e/len(unim_edata))))\n",
    "df_e = (var_multi_e/len(multim_edata) + var_uni_e/len(unim_edata))**2/(var_multi_e**2/(len(multim_edata)**2*(len(multim_edata)-1)) + var_uni_e**2/(len(unim_edata)**2*(len(unim_edata)-1)))\n",
    "\n",
    "#Computing t-value, degrees of freedom and p-value (hearing loss)\n",
    "t_hl = (multim_hl_mean-unim_hl_mean)/(np.sqrt((var_multi_hl/len(multim_hldata))+(var_uni_hl/len(unim_hldata))))\n",
    "df_hl = (var_multi_hl/len(multim_hldata) + var_uni_hl/len(unim_hldata))**2/(var_multi_hl**2/(len(multim_hldata)**2*(len(multim_hldata)-1)) + var_uni_hl**2/(len(unim_hldata)**2*(len(unim_hldata)-1)))\n",
    "\n",
    "#Computing t-value, degrees of freedom and p-value (both hearing and electric)\n",
    "t_all = (multim_all_mean-unim_all_mean)/(np.sqrt((var_multi_all/len(multim_alldata))+(var_uni_all/len(unim_alldata))))\n",
    "df_all = (var_multi_all/len(multim_alldata) + var_uni_all/len(unim_alldata))**2/(var_multi_all**2/(len(multim_alldata)**2*(len(multim_alldata)-1)) + var_uni_all**2/(len(unim_alldata)**2*(len(unim_alldata)-1)))\n",
    "\n",
    "def t_test(t, df):\n",
    "    \n",
    "    p = 2 * stats.t.cdf(-t,df)\n",
    "\n",
    "    print('t-value: ' + str(t))\n",
    "    print('degrees of freedom: ' + str(df))\n",
    "    print('p-value: ' + str(p))\n",
    "\n",
    "#accepting or rejecting H0 if p-value is higher or lower than threshold\n",
    "    if p>0.05:\n",
    "        print('H0 Accepted')\n",
    "    else:\n",
    "        print('H0 Rejected')       "
   ]
  },
  {
   "cell_type": "code",
   "execution_count": 22,
   "metadata": {},
   "outputs": [
    {
     "name": "stdout",
     "output_type": "stream",
     "text": [
      "4.451219512195122\n",
      "3.8635307781649244\n"
     ]
    }
   ],
   "source": [
    "#print(var_multi_hl)\n",
    "#print(var_uni_hl)\n",
    "print(var_multi_all)\n",
    "print(var_uni_all)"
   ]
  },
  {
   "cell_type": "code",
   "execution_count": 23,
   "metadata": {},
   "outputs": [
    {
     "name": "stdout",
     "output_type": "stream",
     "text": [
      "t-value: 4.998521366225246\n",
      "degrees of freedom: 38.93997321369601\n",
      "p-value: 1.2626062627493094e-05\n",
      "H0 Rejected\n",
      "t-value: 1.3490364132715218\n",
      "degrees of freedom: 37.477321095245465\n",
      "p-value: 0.18542011551994958\n",
      "H0 Accepted\n",
      "t-value: 4.387979618776205\n",
      "degrees of freedom: 81.59238894155561\n",
      "p-value: 3.3947428670174775e-05\n",
      "H0 Rejected\n"
     ]
    }
   ],
   "source": [
    "t_test_e = t_test(t_e, df_e)\n",
    "t_test_hl = t_test(t_hl, df_hl)\n",
    "t_test_all = t_test(t_all, df_all)"
   ]
  },
  {
   "cell_type": "code",
   "execution_count": 26,
   "metadata": {},
   "outputs": [
    {
     "data": {
      "text/plain": [
       "Ttest_indResult(statistic=4.387979618776204, pvalue=3.378781173166783e-05)"
      ]
     },
     "execution_count": 26,
     "metadata": {},
     "output_type": "execute_result"
    }
   ],
   "source": [
    "stats.ttest_ind(multim_edata, unim_edata)\n",
    "stats.ttest_ind(multim_alldata, unim_alldata)"
   ]
  },
  {
   "cell_type": "code",
   "execution_count": null,
   "metadata": {},
   "outputs": [],
   "source": []
  }
 ],
 "metadata": {
  "kernelspec": {
   "display_name": "Python 3",
   "language": "python",
   "name": "python3"
  },
  "language_info": {
   "codemirror_mode": {
    "name": "ipython",
    "version": 3
   },
   "file_extension": ".py",
   "mimetype": "text/x-python",
   "name": "python",
   "nbconvert_exporter": "python",
   "pygments_lexer": "ipython3",
   "version": "3.8.8"
  }
 },
 "nbformat": 4,
 "nbformat_minor": 4
}
